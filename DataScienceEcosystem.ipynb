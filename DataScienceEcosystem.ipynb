{
 "cells": [
  {
   "cell_type": "markdown",
   "id": "a0a41741-d3f1-4c5f-9a1a-1abd587a07a1",
   "metadata": {},
   "source": [
    "# Data Science Tools and Ecosystem"
   ]
  },
  {
   "cell_type": "markdown",
   "id": "26336c06-d77c-441a-beda-3fbc72411ad7",
   "metadata": {},
   "source": [
    "In this notebook, Data Science Tools and Ecosystem are summarized."
   ]
  },
  {
   "cell_type": "markdown",
   "id": "711587f1-b85b-4f51-9c21-681e188a1ee5",
   "metadata": {},
   "source": [
    "__Objectives__\n",
    "* Popular languages for Data Science\n",
    "* Commonly used libraries used by Data Scientists\n",
    "* Data Science Tools\n",
    "* Arithmetic expressions examples in Python"
   ]
  },
  {
   "cell_type": "markdown",
   "id": "ecec2535-9640-4124-a9e3-68ed37d8af62",
   "metadata": {},
   "source": [
    "Some of the popular languages that Data Scientists use are as follows:\n",
    "1. Python\n",
    "2. Rstudio\n",
    "3. SQL\n",
    "4. Java\n",
    "5. Javascript"
   ]
  },
  {
   "cell_type": "markdown",
   "id": "004b73a5-a6d6-4267-b85c-2d85c24a3a84",
   "metadata": {},
   "source": [
    "Some of the commonly used libraries used by Data Scientists include:\n",
    "1. TensorFlow\n",
    "2. NumPy\n",
    "3. PyTorch\n",
    "4. Pandas\n",
    "5. Keras"
   ]
  },
  {
   "cell_type": "markdown",
   "id": "5af62dbb-9933-4a03-891f-17e2f40611f0",
   "metadata": {},
   "source": [
    "|Data Science Tools|\n",
    "|----|\n",
    "|JupyterLab|\n",
    "|Apache Zeppelin|\n",
    "|RStudio|\n"
   ]
  },
  {
   "cell_type": "markdown",
   "id": "5aa88321-2552-409a-bd4f-5cfcb0c64310",
   "metadata": {},
   "source": [
    "### Below are a few examples of evaluating arithmetic expressions in Python."
   ]
  },
  {
   "cell_type": "code",
   "execution_count": 3,
   "id": "f1671066-6521-4e93-8502-bece02fa3b5e",
   "metadata": {},
   "outputs": [
    {
     "data": {
      "text/plain": [
       "17"
      ]
     },
     "execution_count": 3,
     "metadata": {},
     "output_type": "execute_result"
    }
   ],
   "source": [
    "# This a simple arithmetic expression to mutiply then add integers\n",
    "(3 * 4) + 5"
   ]
  },
  {
   "cell_type": "code",
   "execution_count": 3,
   "id": "5d82a1dc-27c7-4ef0-91e7-9a583f36f2e2",
   "metadata": {},
   "outputs": [
    {
     "name": "stdout",
     "output_type": "stream",
     "text": [
      "3.3333333333333335 hours\n"
     ]
    }
   ],
   "source": [
    "# This will convert 200 minutes to hours by diving by 60\n",
    "minutes = 200\n",
    "hours = minutes/60\n",
    "print(hours,'hours')"
   ]
  },
  {
   "cell_type": "markdown",
   "id": "c5753793-6c48-4579-84fc-4f2a46743a27",
   "metadata": {},
   "source": [
    "## Author\n",
    "Olatolu Afolabi"
   ]
  },
  {
   "cell_type": "code",
   "execution_count": null,
   "id": "31498514-723c-4e89-96ef-efafd932a461",
   "metadata": {},
   "outputs": [],
   "source": []
  }
 ],
 "metadata": {
  "kernelspec": {
   "display_name": "Python",
   "language": "python",
   "name": "conda-env-python-py"
  },
  "language_info": {
   "codemirror_mode": {
    "name": "ipython",
    "version": 3
   },
   "file_extension": ".py",
   "mimetype": "text/x-python",
   "name": "python",
   "nbconvert_exporter": "python",
   "pygments_lexer": "ipython3",
   "version": "3.7.12"
  }
 },
 "nbformat": 4,
 "nbformat_minor": 5
}
